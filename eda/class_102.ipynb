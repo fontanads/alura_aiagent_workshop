{
 "cells": [
  {
   "cell_type": "code",
   "execution_count": null,
   "id": "393797b7",
   "metadata": {},
   "outputs": [],
   "source": [
    "import os\n",
    "from theoffice.utils.io import update_env_secrets\n",
    "update_env_secrets(os.path.join(os.getcwd(), \"..\", \".secrets\", \"secrets.yaml\"))\n",
    "GOOGLE_API_KEY = os.environ.get('GEMINI_API_KEY')"
   ]
  },
  {
   "cell_type": "markdown",
   "id": "419fdf0c",
   "metadata": {},
   "source": [
    "# Loading PDFs"
   ]
  },
  {
   "cell_type": "markdown",
   "id": "1505b8ee",
   "metadata": {},
   "source": [
    "Loader has been added to utils"
   ]
  },
  {
   "cell_type": "code",
   "execution_count": null,
   "id": "a9422bd8",
   "metadata": {},
   "outputs": [],
   "source": [
    "from theoffice.utils.io import read_pdf_files\n",
    "\n",
    "pdfs = read_pdf_files(os.path.join(os.getcwd(), '..', 'binaries', 'class_102'))\n",
    "pdfs"
   ]
  },
  {
   "cell_type": "markdown",
   "id": "618f6fca",
   "metadata": {},
   "source": [
    "Each element of the list is a `langchain` `Document` object"
   ]
  },
  {
   "cell_type": "code",
   "execution_count": null,
   "id": "279efce7",
   "metadata": {},
   "outputs": [],
   "source": [
    "pdfs[0]"
   ]
  },
  {
   "cell_type": "markdown",
   "id": "b2f1d186",
   "metadata": {},
   "source": [
    "Documents have certain attributes and methods we can check"
   ]
  },
  {
   "cell_type": "code",
   "execution_count": null,
   "id": "9904ef90",
   "metadata": {},
   "outputs": [],
   "source": [
    "print(*[att for att in dir(pdfs[0]) if not att.startswith(\"_\")])"
   ]
  },
  {
   "cell_type": "markdown",
   "id": "fd83e3be",
   "metadata": {},
   "source": [
    "Metadata is one of these attributes"
   ]
  },
  {
   "cell_type": "code",
   "execution_count": null,
   "id": "26a00e79",
   "metadata": {},
   "outputs": [],
   "source": [
    "pdfs[0].metadata.keys()"
   ]
  },
  {
   "cell_type": "code",
   "execution_count": null,
   "id": "d128f7ac",
   "metadata": {},
   "outputs": [],
   "source": [
    "pdfs[0].metadata['total_pages']"
   ]
  },
  {
   "cell_type": "markdown",
   "id": "a85631d3",
   "metadata": {},
   "source": [
    "Document content can be accesssed in `page_content` attribute"
   ]
  },
  {
   "cell_type": "code",
   "execution_count": null,
   "id": "9298aeeb",
   "metadata": {},
   "outputs": [],
   "source": [
    "pdfs[0].page_content"
   ]
  },
  {
   "cell_type": "code",
   "execution_count": null,
   "id": "527995f1",
   "metadata": {},
   "outputs": [],
   "source": [
    "len(pdfs[0].page_content)"
   ]
  },
  {
   "cell_type": "markdown",
   "id": "c7184b9e",
   "metadata": {},
   "source": [
    "## Chunking the documents"
   ]
  },
  {
   "cell_type": "markdown",
   "id": "6bd84bd3",
   "metadata": {},
   "source": []
  },
  {
   "cell_type": "code",
   "execution_count": null,
   "id": "ff73ad2a",
   "metadata": {},
   "outputs": [],
   "source": [
    "from langchain_text_splitters import RecursiveCharacterTextSplitter"
   ]
  },
  {
   "cell_type": "code",
   "execution_count": null,
   "id": "1a67499e",
   "metadata": {},
   "outputs": [],
   "source": [
    "splitter = RecursiveCharacterTextSplitter(chunk_size=300, chunk_overlap=30)"
   ]
  },
  {
   "cell_type": "code",
   "execution_count": null,
   "id": "02b10cf1",
   "metadata": {},
   "outputs": [],
   "source": [
    "chunks = splitter.split_documents(pdfs)"
   ]
  },
  {
   "cell_type": "markdown",
   "id": "bcb19b4e",
   "metadata": {},
   "source": [
    "Chunks are documents too"
   ]
  },
  {
   "cell_type": "code",
   "execution_count": null,
   "id": "6ad7ea24",
   "metadata": {},
   "outputs": [],
   "source": [
    "chunks[0]"
   ]
  },
  {
   "cell_type": "code",
   "execution_count": null,
   "id": "21d35dae",
   "metadata": {},
   "outputs": [],
   "source": [
    "chunks[0].page_content"
   ]
  },
  {
   "cell_type": "code",
   "execution_count": null,
   "id": "8d285d0e",
   "metadata": {},
   "outputs": [],
   "source": [
    "len(chunks[0].page_content)"
   ]
  },
  {
   "cell_type": "code",
   "execution_count": null,
   "id": "9b55727a",
   "metadata": {},
   "outputs": [],
   "source": [
    "for chunk in chunks:\n",
    "    print(chunk)\n",
    "    print(\"-\" * 100)"
   ]
  },
  {
   "cell_type": "markdown",
   "id": "a4e80d6d",
   "metadata": {},
   "source": [
    "# Embedding Models"
   ]
  },
  {
   "cell_type": "markdown",
   "id": "c7150012",
   "metadata": {},
   "source": []
  },
  {
   "cell_type": "code",
   "execution_count": null,
   "id": "9a92be92",
   "metadata": {},
   "outputs": [],
   "source": [
    "from langchain_google_genai import GoogleGenerativeAIEmbeddings\n",
    "from langchain_community.vectorstores import FAISS  # Facebook AI Similarity Search"
   ]
  },
  {
   "cell_type": "code",
   "execution_count": null,
   "id": "a9c58d08",
   "metadata": {},
   "outputs": [],
   "source": [
    "embeddings_model = GoogleGenerativeAIEmbeddings(\n",
    "    model=\"models/gemini-embedding-001\",\n",
    "    google_api_key=GOOGLE_API_KEY\n",
    ")"
   ]
  },
  {
   "cell_type": "code",
   "execution_count": null,
   "id": "19f6051d",
   "metadata": {},
   "outputs": [],
   "source": [
    "vector_store = FAISS.from_documents(documents=chunks, embedding=embeddings_model)\n",
    "vector_store"
   ]
  },
  {
   "cell_type": "code",
   "execution_count": null,
   "id": "bc2c802b",
   "metadata": {},
   "outputs": [],
   "source": [
    "chunks[1].lc_id"
   ]
  },
  {
   "cell_type": "code",
   "execution_count": null,
   "id": "d664f92a",
   "metadata": {},
   "outputs": [],
   "source": [
    "vector_store.get_by_ids([0])"
   ]
  },
  {
   "cell_type": "code",
   "execution_count": null,
   "id": "8d42779b",
   "metadata": {},
   "outputs": [],
   "source": [
    "vector_store.similarity_search(\"viagem\", k=1)"
   ]
  },
  {
   "cell_type": "code",
   "execution_count": null,
   "id": "9d61e9f1",
   "metadata": {},
   "outputs": [],
   "source": [
    "faiss_index = vector_store.index  \n",
    "faiss_index"
   ]
  },
  {
   "cell_type": "code",
   "execution_count": null,
   "id": "4bdc3bec",
   "metadata": {},
   "outputs": [],
   "source": [
    "# Number of vectors\n",
    "print(faiss_index.ntotal), print(len(chunks))"
   ]
  },
  {
   "cell_type": "code",
   "execution_count": null,
   "id": "3f50a04d",
   "metadata": {},
   "outputs": [],
   "source": [
    "# Dump all vectors as numpy array\n",
    "import numpy as np\n",
    "\n",
    "xb = faiss_index.reconstruct_n(0, faiss_index.ntotal)  # reconstruct all vectors\n",
    "print(np.array(xb).shape)   # (num_chunks, embedding_dim)"
   ]
  },
  {
   "cell_type": "code",
   "execution_count": null,
   "id": "519a359e",
   "metadata": {},
   "outputs": [],
   "source": [
    "vec0 = faiss_index.reconstruct(0)\n",
    "print(vec0.shape)\n",
    "print(vec0[:10])  # first 10 dimensions"
   ]
  },
  {
   "cell_type": "code",
   "execution_count": null,
   "id": "19d8b60b",
   "metadata": {},
   "outputs": [],
   "source": [
    "for i, (doc_id, doc) in enumerate(vector_store.docstore._dict.items()):\n",
    "    print(i, doc_id)\n",
    "    vector = faiss_index.reconstruct(i)\n",
    "    print(\"Vector sample:\", vector[:5])\n",
    "    print(\"Doc:\")\n",
    "    print(\"```\")\n",
    "    print(doc.page_content[:50])\n",
    "    print(\"```\")\n",
    "    print(\"...\")\n",
    "    print(\"-\" * 100)\n"
   ]
  },
  {
   "cell_type": "code",
   "execution_count": null,
   "id": "a026e576",
   "metadata": {},
   "outputs": [],
   "source": [
    "retriever = vector_store.as_retriever(\n",
    "    search_type='similarity_score_threshold',\n",
    "    search_kwargs={'score_threshold': 0.3, 'k': 4}\n",
    ")"
   ]
  },
  {
   "cell_type": "code",
   "execution_count": null,
   "id": "d85a43a0",
   "metadata": {},
   "outputs": [],
   "source": []
  },
  {
   "cell_type": "markdown",
   "id": "162ad531",
   "metadata": {},
   "source": [
    "# Agent Chain"
   ]
  },
  {
   "cell_type": "code",
   "execution_count": null,
   "id": "9c1279b7",
   "metadata": {},
   "outputs": [],
   "source": [
    "from langchain_google_genai import ChatGoogleGenerativeAI"
   ]
  },
  {
   "cell_type": "code",
   "execution_count": null,
   "id": "0de0a6c8",
   "metadata": {},
   "outputs": [],
   "source": [
    "from theoffice.output_structures.class_101 import TriagemOut\n",
    "from langchain_core.messages import SystemMessage, HumanMessage\n",
    "from typing import Dict"
   ]
  },
  {
   "cell_type": "code",
   "execution_count": null,
   "id": "b0e7ea43",
   "metadata": {},
   "outputs": [],
   "source": [
    "from langchain_core.prompts import ChatPromptTemplate\n",
    "from langchain.chains.combine_documents import create_stuff_documents_chain"
   ]
  },
  {
   "cell_type": "code",
   "execution_count": null,
   "id": "b101777d",
   "metadata": {},
   "outputs": [],
   "source": [
    "TRIAGEM_PROMPT = (\n",
    "    \"Você é um triador de Service Desk para políticas internas da empresa Carraro Desenvolvimento. \"\n",
    "    \"Dada a mensagem do usuário, retorne SOMENTE um JSON com:\\n\"\n",
    "    \"{\\n\"\n",
    "    '  \"decisao\": \"AUTO_RESOLVER\" | \"PEDIR_INFO\" | \"ABRIR_CHAMADO\",\\n'\n",
    "    '  \"urgencia\": \"BAIXA\" | \"MEDIA\" | \"ALTA\",\\n'\n",
    "    '  \"campos_faltantes\": [\"...\"]\\n'\n",
    "    \"}\\n\"\n",
    "    \"Regras:\\n\"\n",
    "    '- **AUTO_RESOLVER**: Perguntas claras sobre regras ou procedimentos descritos nas políticas (Ex: \"Posso reembolsar a internet do meu home office?\", \"Como funciona a política de alimentação em viagens?\").\\n'\n",
    "    '- **PEDIR_INFO**: Mensagens vagas ou que faltam informações para identificar o tema ou contexto (Ex: \"Preciso de ajuda com uma política\", \"Tenho uma dúvida geral\").\\n'\n",
    "    '- **ABRIR_CHAMADO**: Pedidos de exceção, liberação, aprovação ou acesso especial, ou quando o usuário explicitamente pede para abrir um chamado (Ex: \"Quero exceção para trabalhar 5 dias remoto.\", \"Solicito liberação para anexos externos.\", \"Por favor, abra um chamado para o RH.\").'\n",
    "    \"Analise a mensagem e decida a ação mais apropriada.\"\n",
    ")"
   ]
  },
  {
   "cell_type": "code",
   "execution_count": null,
   "id": "22c9721f",
   "metadata": {},
   "outputs": [],
   "source": [
    "llm_triagem = ChatGoogleGenerativeAI(\n",
    "    model=\"gemini-2.5-flash\",\n",
    "    temperature=0.0,\n",
    "    api_key=GOOGLE_API_KEY\n",
    ")\n",
    "\n",
    "triagem_chain = llm_triagem.with_structured_output(TriagemOut)\n",
    "\n",
    "def triagem(mensagem: str) -> Dict:\n",
    "    saida: TriagemOut = triagem_chain.invoke([\n",
    "        SystemMessage(content=TRIAGEM_PROMPT),\n",
    "        HumanMessage(content=mensagem)\n",
    "    ])\n",
    "\n",
    "    return saida.model_dump()"
   ]
  },
  {
   "cell_type": "code",
   "execution_count": null,
   "id": "58007c0e",
   "metadata": {},
   "outputs": [],
   "source": [
    "prompt_rag = ChatPromptTemplate.from_messages([\n",
    "    (\"system\",\n",
    "     \"Você é um Assistente de Políticas Internas (RH/IT) da empresa Carraro Desenvolvimento. \"\n",
    "     \"Responda SOMENTE com base no contexto fornecido. \"\n",
    "     \"Se não houver base suficiente, responda apenas 'Não sei'.\"),\n",
    "\n",
    "    (\"human\", \"Pergunta: {input}\\n\\nContexto:\\n{context}\")\n",
    "]\n",
    ")\n",
    "\n",
    "\n",
    "# creating a chain (langchain), so that later one can pass a list of Documents to a LLM chain model\n",
    "document_chain = create_stuff_documents_chain(llm_triagem, prompt_rag)"
   ]
  },
  {
   "cell_type": "code",
   "execution_count": null,
   "id": "648d725f",
   "metadata": {},
   "outputs": [],
   "source": [
    "def perguntar_politica_RAG(pergunta: str, retriever):\n",
    "    \"\"\"Returns a dict\"\"\"\n",
    "    docs_relacionados = retriever.invoke(pergunta)\n",
    "    if not docs_relacionados:\n",
    "        # empty results from retriever\n",
    "        return {\n",
    "            \"resposta\": \"nao sei\",\n",
    "            \"citacoes\": [],\n",
    "            \"contexto_encontrado\": False\n",
    "        }\n",
    "    else:\n",
    "        return docs_relacionados\n",
    "    "
   ]
  },
  {
   "cell_type": "code",
   "execution_count": null,
   "id": "00b67da6",
   "metadata": {},
   "outputs": [],
   "source": [
    "def processar_pergunta_com_RAG(pergunta: str, retriever, document_chain):\n",
    "    docs_relacionados = perguntar_politica_RAG(pergunta, retriever)\n",
    "    # print(\"RAG output\", docs_relacionados)\n",
    "    \n",
    "    answer = document_chain.invoke(\n",
    "        {\n",
    "            \"input\": pergunta,\n",
    "            \"context\": docs_relacionados\n",
    "        }\n",
    "    )\n",
    "\n",
    "    txt = (answer or \"\").strip()\n",
    "    # print('chain answer', txt)\n",
    "    \n",
    "    if txt.rstrip(\".!?\") == \"Não sei\":\n",
    "        ## LLM model answer\n",
    "        agent_output = {\n",
    "                \"resposta\": \"nao sei\",\n",
    "                \"citacoes\": [],\n",
    "                \"contexto_encontrado\": False\n",
    "            }\n",
    "    else:\n",
    "        agent_output = {\n",
    "                \"resposta\": txt,\n",
    "                \"citacoes\": [docs_relacionados],\n",
    "                \"contexto_encontrado\": True\n",
    "            }\n",
    "    \n",
    "    return agent_output"
   ]
  },
  {
   "cell_type": "code",
   "execution_count": null,
   "id": "be7e3742",
   "metadata": {},
   "outputs": [],
   "source": [
    "testes = [\"Posso reembolsar a internet?\",\n",
    "          \"Quero mais 5 dias de trabalho remoto. Como faço?\",\n",
    "          \"Posso reembolsar cursos ou treinamentos da Alura?\",\n",
    "          \"Quantas capivaras tem no Rio Pinheiros?\"]\n",
    "\n",
    "for msg_teste in testes:\n",
    "    resposta = processar_pergunta_com_RAG(msg_teste, retriever, document_chain)\n",
    "    print(f\"Pergunta: {msg_teste}\")\n",
    "    print(f\"Resposta: {resposta['resposta']}\")\n",
    "    print(f\"Contexto Encontrado?: {resposta['contexto_encontrado']}\")\n",
    "    print(f\"Citacoes: {resposta['citacoes']}\")\n",
    "    print(\"-\" * 100)"
   ]
  },
  {
   "cell_type": "code",
   "execution_count": null,
   "id": "aca978c8",
   "metadata": {},
   "outputs": [],
   "source": []
  },
  {
   "cell_type": "code",
   "execution_count": null,
   "id": "eacd07a6",
   "metadata": {},
   "outputs": [],
   "source": []
  }
 ],
 "metadata": {
  "kernelspec": {
   "display_name": "alura-aiagent-workshop",
   "language": "python",
   "name": "python3"
  },
  "language_info": {
   "codemirror_mode": {
    "name": "ipython",
    "version": 3
   },
   "file_extension": ".py",
   "mimetype": "text/x-python",
   "name": "python",
   "nbconvert_exporter": "python",
   "pygments_lexer": "ipython3",
   "version": "3.13.6"
  }
 },
 "nbformat": 4,
 "nbformat_minor": 5
}
